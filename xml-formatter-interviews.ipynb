{
 "cells": [
  {
   "cell_type": "markdown",
   "metadata": {},
   "source": [
    "# Imports"
   ]
  },
  {
   "cell_type": "code",
   "execution_count": 289,
   "metadata": {},
   "outputs": [],
   "source": [
    "# import requests\n",
    "from bs4 import BeautifulSoup\n",
    "import pandas as pd\n",
    "import numpy as np\n",
    "import jinja2\n",
    "import os\n",
    "import re"
   ]
  },
  {
   "cell_type": "markdown",
   "metadata": {},
   "source": [
    "# Grab File"
   ]
  },
  {
   "cell_type": "code",
   "execution_count": 173,
   "metadata": {},
   "outputs": [],
   "source": [
    "with open('./sample.xml', 'r') as f:\n",
    "    data = f.read()\n",
    "\n",
    "bs_data = BeautifulSoup(data, 'lxml')"
   ]
  },
  {
   "cell_type": "code",
   "execution_count": 174,
   "metadata": {
    "collapsed": true
   },
   "outputs": [
    {
     "data": {
      "text/plain": [
       "<?xml version=\"1.0\" encoding=\"UTF-8\"?><html><body><root schemalocation=\"https: //www.weareavp.com/nunncenter/ohms/ohms.xsd\" xmlns=\"https: //www.weareavp.com/nunncenter/ohms\" xmlns:=\"\" xsi=\"http: //www.w3.org/2001/XMLSchema-instance\" xsi:=\"\">\n",
       "<record dt=\"2021-07-13\" id=\"00094187\">\n",
       "<version>5.4</version>\n",
       "<date format=\"yyyy-mm-dd\" value=\"2017-05-25\"></date>\n",
       "<date_nonpreferred_format>Unknown Date</date_nonpreferred_format>\n",
       "<title>John Doe, Douglas County, 2017</title>\n",
       "<accession></accession>\n",
       "<duration>46: 56</duration>\n",
       "<collection_id>12</collection_id>\n",
       "<collection_name>interviews</collection_name>\n",
       "<repository>historical society</repository>\n",
       "<format>MP3</format>\n",
       "<file_name>buzzbomb_from_pasadena_20170525.mp3</file_name>\n",
       "<clip_format>audio</clip_format>\n",
       "<title>Background and immigration story</title>\n",
       "<keywords>Family;Native language;Russian language;World Relief</keywords>\n",
       "<subjects>Rich Feynman as mentor</subjects>\n",
       "<transcript>Gathering Our Voice\n",
       "\n",
       "Interviewee:  John Doe\n",
       "\n",
       "Interviewer:  Peter Venkman (Egon Spengler also present) Date:  May 25, 2017\n",
       "\n",
       "Transcribed by Rev\n",
       "\n",
       "Peter Venkman: Lorem ipsum dolor sit amet, consectetur adipiscing elit. Duis a sem ut tellus efficitur ultrices. Aliquam varius nisi tincidunt ex ullamcorper euismod. Pellentesque id egestas purus. In vitae justo erat. Aenean bibendum convallis tortor et aliquam. Cras ac eros vel nulla lobortis pulvinar. Mauris suscipit nulla feugiat elit varius, eu tempor eros lobortis. \n",
       "\n",
       "John Doe: Mauris varius est at enim vehicula malesuada. Donec sed felis ac nibh rutrum pretium pharetra at eros. Maecenas a lacinia urna. Maecenas gravida rhoncus accumsan. Nulla et gravida velit, ut condimentum orci. Proin efficitur justo justo, non feugiat tortor interdum in. Sed sollicitudin interdum leo et eleifend. \n",
       "\n",
       "Peter Venkman: Suspendisse potenti. Morbi bibendum vitae ex sit amet pellentesque. Ut ultrices nulla ac malesuada interdum. Proin convallis convallis magna sed semper. Nullam ut risus iaculis, consectetur dolor id, dapibus eros. In tempor velit in dictum euismod. Etiam felis enim, finibus ac efficitur ut, cursus fringilla nisi. Mauris vel lorem non ipsum consectetur placerat. Fusce elementum eu erat quis facilisis. Proin at blandit ligula. Aliquam ut eros faucibus, iaculis turpis scelerisque, iaculis neque. \n",
       "\n",
       "John Doe: Cras mollis maximus turpis id mattis. Aenean lobortis bibendum mollis. Donec rutrum luctus augue eu volutpat. Proin ornare ante risus. In quis orci pretium, eleifend ipsum non, dignissim lorem. Proin venenatis mi magna, sit amet faucibus augue tristique at. Fusce nec viverra arcu.  \n",
       "\n",
       "Peter Venkman: That's awesome. Okay, I have more questions. What sort of\n",
       "skills and experience did your family bring with you when you came here?\n",
       "\n",
       "John Doe:  Can you repeat that question?\n",
       "\n",
       "Peter Venkman: Yes, sure. What sort of skills and experience did your family\n",
       "bring with you when you came?\n",
       "\n",
       "John Doe: Mauris rutrum volutpat mi non porta. Nullam porttitor est sapien, ut efficitur magna venenatis a. Maecenas vitae tellus orci. Vivamus sodales erat sit amet ipsum fringilla condimentum. Phasellus rutrum, libero quis faucibus eleifend, leo elit posuere erat, vel pharetra sem mi efficitur nunc. Praesent vitae urna vel leo egestas vehicula eu quis tellus. Nullam eget tempus quam. Aliquam auctor laoreet purus. In ac turpis mauris. Pellentesque viverra cursus ligula, quis efficitur mauris finibus sit amet. Lorem ipsum dolor sit amet, consectetur adipiscing elit. Nam iaculis, enim nec dignissim facilisis, neque neque blandit odio, quis iaculis risus nulla sit amet metus. Maecenas iaculis at ex at sodales. Vestibulum ante ipsum primis in faucibus orci luctus et ultrices posuere cubilia curae; Phasellus lobortis faucibus sem, eu fringilla tellus rhoncus interdum. Cras maximus maximus tortor nec maximus. \n",
       "\n",
       "Peter Venkman: Okay, what these people do to help you feel at home here? Either\n",
       "one or two memories that is somehow from your childhood, young adulthood or more\n",
       "recent recently? There is-\n",
       "\n",
       "John Doe: So, a memory about what?\n",
       "\n",
       "Peter Venkman: Is like, what do people do to help you feel at home?\n",
       "\n",
       "John Doe: Integer ut fermentum lectus. Quisque lacinia, ligula eget gravida blandit, massa lorem dapibus sem, et vulputate augue enim vestibulum sapien. Nulla a est mollis, tristique felis nec, mollis sem. Integer elementum consectetur ante sit amet imperdiet. Nullam et leo consequat, tincidunt justo et, interdum enim. Mauris quis elit hendrerit mauris consequat volutpat consectetur non massa. Sed auctor ligula ut dui facilisis, volutpat vulputate lacus dapibus. Nullam et felis posuere, egestas tellus ac, lacinia augue. Maecenas ac aliquet eros. Nullam nisi est, posuere non posuere tempus, bibendum vitae tellus. Praesent suscipit elementum arcu, quis egestas felis. Quisque non semper enim. Maecenas in risus massa. Pellentesque sollicitudin velit ac nulla laoreet tincidunt. Orci varius natoque penatibus et magnis dis parturient montes, nascetur ridiculus mus. \n",
       "\n",
       "Peter Venkman: Do you remember one or two memories when you were a child growing up?\n",
       "\n",
       "John Doe: Praesent sed nisl sed metus pharetra maximus at ac erat. Sed nec commodo odio, nec molestie felis. Quisque et scelerisque elit. Sed non sodales neque, eget tempor erat. Aliquam quis risus eget tortor egestas vehicula. Morbi neque urna, condimentum id venenatis nec, volutpat sit amet lorem. Cras maximus neque ac dolor iaculis semper. Nulla facilisi. Integer facilisis et sem quis congue. Aliquam ac porta leo. Phasellus feugiat magna vitae eros scelerisque, sed dictum tellus lacinia. \n",
       "\n",
       "Peter Venkman: It was -\n",
       "\n",
       "John Doe: It was in Northern Greece, that was in Northern Greece, yes.\n",
       "\n",
       "</transcript>\n",
       "<fmt>audio</fmt>\n",
       "<userestrict>0</userestrict>\n",
       "<xmllocation>john_doe_20170525.xml</xmllocation>\n",
       "<xmlfilename>john_doe_20170525.xml</xmlfilename>\n",
       "<collection_link></collection_link>\n",
       "</record>\n",
       "</root>\n",
       "</body></html>"
      ]
     },
     "execution_count": 174,
     "metadata": {},
     "output_type": "execute_result"
    }
   ],
   "source": [
    "bs_data"
   ]
  },
  {
   "cell_type": "code",
   "execution_count": 175,
   "metadata": {},
   "outputs": [],
   "source": [
    "transcript = bs_data.find(\"transcript\")"
   ]
  },
  {
   "cell_type": "code",
   "execution_count": 244,
   "metadata": {},
   "outputs": [
    {
     "data": {
      "text/plain": [
       "str"
      ]
     },
     "execution_count": 244,
     "metadata": {},
     "output_type": "execute_result"
    }
   ],
   "source": [
    "type(transcript.text)"
   ]
  },
  {
   "cell_type": "code",
   "execution_count": 250,
   "metadata": {
    "collapsed": true
   },
   "outputs": [
    {
     "data": {
      "text/plain": [
       "\"Gathering Our Voice\\n\\nInterviewee:  John Doe\\n\\nInterviewer:  Peter Venkman (Egon Spengler also present) Date:  May 25, 2017\\n\\nTranscribed by Rev\\n\\nPeter Venkman: Lorem ipsum dolor sit amet, consectetur adipiscing elit. Duis a sem ut tellus efficitur ultrices. Aliquam varius nisi tincidunt ex ullamcorper euismod. Pellentesque id egestas purus. In vitae justo erat. Aenean bibendum convallis tortor et aliquam. Cras ac eros vel nulla lobortis pulvinar. Mauris suscipit nulla feugiat elit varius, eu tempor eros lobortis. \\n\\nJohn Doe: Mauris varius est at enim vehicula malesuada. Donec sed felis ac nibh rutrum pretium pharetra at eros. Maecenas a lacinia urna. Maecenas gravida rhoncus accumsan. Nulla et gravida velit, ut condimentum orci. Proin efficitur justo justo, non feugiat tortor interdum in. Sed sollicitudin interdum leo et eleifend. \\n\\nPeter Venkman: Suspendisse potenti. Morbi bibendum vitae ex sit amet pellentesque. Ut ultrices nulla ac malesuada interdum. Proin convallis convallis magna sed semper. Nullam ut risus iaculis, consectetur dolor id, dapibus eros. In tempor velit in dictum euismod. Etiam felis enim, finibus ac efficitur ut, cursus fringilla nisi. Mauris vel lorem non ipsum consectetur placerat. Fusce elementum eu erat quis facilisis. Proin at blandit ligula. Aliquam ut eros faucibus, iaculis turpis scelerisque, iaculis neque. \\n\\nJohn Doe: Cras mollis maximus turpis id mattis. Aenean lobortis bibendum mollis. Donec rutrum luctus augue eu volutpat. Proin ornare ante risus. In quis orci pretium, eleifend ipsum non, dignissim lorem. Proin venenatis mi magna, sit amet faucibus augue tristique at. Fusce nec viverra arcu.  \\n\\nPeter Venkman: That's awesome. Okay, I have more questions. What sort of\\nskills and experience did your family bring with you when you came here?\\n\\nJohn Doe:  Can you repeat that question?\\n\\nPeter Venkman: Yes, sure. What sort of skills and experience did your family\\nbring with you when you came?\\n\\nJohn Doe: Mauris rutrum volutpat mi non porta. Nullam porttitor est sapien, ut efficitur magna venenatis a. Maecenas vitae tellus orci. Vivamus sodales erat sit amet ipsum fringilla condimentum. Phasellus rutrum, libero quis faucibus eleifend, leo elit posuere erat, vel pharetra sem mi efficitur nunc. Praesent vitae urna vel leo egestas vehicula eu quis tellus. Nullam eget tempus quam. Aliquam auctor laoreet purus. In ac turpis mauris. Pellentesque viverra cursus ligula, quis efficitur mauris finibus sit amet. Lorem ipsum dolor sit amet, consectetur adipiscing elit. Nam iaculis, enim nec dignissim facilisis, neque neque blandit odio, quis iaculis risus nulla sit amet metus. Maecenas iaculis at ex at sodales. Vestibulum ante ipsum primis in faucibus orci luctus et ultrices posuere cubilia curae; Phasellus lobortis faucibus sem, eu fringilla tellus rhoncus interdum. Cras maximus maximus tortor nec maximus. \\n\\nPeter Venkman: Okay, what these people do to help you feel at home here? Either\\none or two memories that is somehow from your childhood, young adulthood or more\\nrecent recently? There is-\\n\\nJohn Doe: So, a memory about what?\\n\\nPeter Venkman: Is like, what do people do to help you feel at home?\\n\\nJohn Doe: Integer ut fermentum lectus. Quisque lacinia, ligula eget gravida blandit, massa lorem dapibus sem, et vulputate augue enim vestibulum sapien. Nulla a est mollis, tristique felis nec, mollis sem. Integer elementum consectetur ante sit amet imperdiet. Nullam et leo consequat, tincidunt justo et, interdum enim. Mauris quis elit hendrerit mauris consequat volutpat consectetur non massa. Sed auctor ligula ut dui facilisis, volutpat vulputate lacus dapibus. Nullam et felis posuere, egestas tellus ac, lacinia augue. Maecenas ac aliquet eros. Nullam nisi est, posuere non posuere tempus, bibendum vitae tellus. Praesent suscipit elementum arcu, quis egestas felis. Quisque non semper enim. Maecenas in risus massa. Pellentesque sollicitudin velit ac nulla laoreet tincidunt. Orci varius natoque penatibus et magnis dis parturient montes, nascetur ridiculus mus. \\n\\nPeter Venkman: Do you remember one or two memories when you were a child growing up?\\n\\nJohn Doe: Praesent sed nisl sed metus pharetra maximus at ac erat. Sed nec commodo odio, nec molestie felis. Quisque et scelerisque elit. Sed non sodales neque, eget tempor erat. Aliquam quis risus eget tortor egestas vehicula. Morbi neque urna, condimentum id venenatis nec, volutpat sit amet lorem. Cras maximus neque ac dolor iaculis semper. Nulla facilisi. Integer facilisis et sem quis congue. Aliquam ac porta leo. Phasellus feugiat magna vitae eros scelerisque, sed dictum tellus lacinia. \\n\\nPeter Venkman: It was -\\n\\nJohn Doe: It was in Northern Greece, that was in Northern Greece, yes.\\n\\n\""
      ]
     },
     "execution_count": 250,
     "metadata": {},
     "output_type": "execute_result"
    }
   ],
   "source": [
    "transcript.text"
   ]
  },
  {
   "cell_type": "code",
   "execution_count": 177,
   "metadata": {
    "collapsed": true
   },
   "outputs": [
    {
     "data": {
      "text/plain": [
       "<bound method Tag.prettify of <transcript>Gathering Our Voice\n",
       "\n",
       "Interviewee:  John Doe\n",
       "\n",
       "Interviewer:  Peter Venkman (Egon Spengler also present) Date:  May 25, 2017\n",
       "\n",
       "Transcribed by Rev\n",
       "\n",
       "Peter Venkman: Lorem ipsum dolor sit amet, consectetur adipiscing elit. Duis a sem ut tellus efficitur ultrices. Aliquam varius nisi tincidunt ex ullamcorper euismod. Pellentesque id egestas purus. In vitae justo erat. Aenean bibendum convallis tortor et aliquam. Cras ac eros vel nulla lobortis pulvinar. Mauris suscipit nulla feugiat elit varius, eu tempor eros lobortis. \n",
       "\n",
       "John Doe: Mauris varius est at enim vehicula malesuada. Donec sed felis ac nibh rutrum pretium pharetra at eros. Maecenas a lacinia urna. Maecenas gravida rhoncus accumsan. Nulla et gravida velit, ut condimentum orci. Proin efficitur justo justo, non feugiat tortor interdum in. Sed sollicitudin interdum leo et eleifend. \n",
       "\n",
       "Peter Venkman: Suspendisse potenti. Morbi bibendum vitae ex sit amet pellentesque. Ut ultrices nulla ac malesuada interdum. Proin convallis convallis magna sed semper. Nullam ut risus iaculis, consectetur dolor id, dapibus eros. In tempor velit in dictum euismod. Etiam felis enim, finibus ac efficitur ut, cursus fringilla nisi. Mauris vel lorem non ipsum consectetur placerat. Fusce elementum eu erat quis facilisis. Proin at blandit ligula. Aliquam ut eros faucibus, iaculis turpis scelerisque, iaculis neque. \n",
       "\n",
       "John Doe: Cras mollis maximus turpis id mattis. Aenean lobortis bibendum mollis. Donec rutrum luctus augue eu volutpat. Proin ornare ante risus. In quis orci pretium, eleifend ipsum non, dignissim lorem. Proin venenatis mi magna, sit amet faucibus augue tristique at. Fusce nec viverra arcu.  \n",
       "\n",
       "Peter Venkman: That's awesome. Okay, I have more questions. What sort of\n",
       "skills and experience did your family bring with you when you came here?\n",
       "\n",
       "John Doe:  Can you repeat that question?\n",
       "\n",
       "Peter Venkman: Yes, sure. What sort of skills and experience did your family\n",
       "bring with you when you came?\n",
       "\n",
       "John Doe: Mauris rutrum volutpat mi non porta. Nullam porttitor est sapien, ut efficitur magna venenatis a. Maecenas vitae tellus orci. Vivamus sodales erat sit amet ipsum fringilla condimentum. Phasellus rutrum, libero quis faucibus eleifend, leo elit posuere erat, vel pharetra sem mi efficitur nunc. Praesent vitae urna vel leo egestas vehicula eu quis tellus. Nullam eget tempus quam. Aliquam auctor laoreet purus. In ac turpis mauris. Pellentesque viverra cursus ligula, quis efficitur mauris finibus sit amet. Lorem ipsum dolor sit amet, consectetur adipiscing elit. Nam iaculis, enim nec dignissim facilisis, neque neque blandit odio, quis iaculis risus nulla sit amet metus. Maecenas iaculis at ex at sodales. Vestibulum ante ipsum primis in faucibus orci luctus et ultrices posuere cubilia curae; Phasellus lobortis faucibus sem, eu fringilla tellus rhoncus interdum. Cras maximus maximus tortor nec maximus. \n",
       "\n",
       "Peter Venkman: Okay, what these people do to help you feel at home here? Either\n",
       "one or two memories that is somehow from your childhood, young adulthood or more\n",
       "recent recently? There is-\n",
       "\n",
       "John Doe: So, a memory about what?\n",
       "\n",
       "Peter Venkman: Is like, what do people do to help you feel at home?\n",
       "\n",
       "John Doe: Integer ut fermentum lectus. Quisque lacinia, ligula eget gravida blandit, massa lorem dapibus sem, et vulputate augue enim vestibulum sapien. Nulla a est mollis, tristique felis nec, mollis sem. Integer elementum consectetur ante sit amet imperdiet. Nullam et leo consequat, tincidunt justo et, interdum enim. Mauris quis elit hendrerit mauris consequat volutpat consectetur non massa. Sed auctor ligula ut dui facilisis, volutpat vulputate lacus dapibus. Nullam et felis posuere, egestas tellus ac, lacinia augue. Maecenas ac aliquet eros. Nullam nisi est, posuere non posuere tempus, bibendum vitae tellus. Praesent suscipit elementum arcu, quis egestas felis. Quisque non semper enim. Maecenas in risus massa. Pellentesque sollicitudin velit ac nulla laoreet tincidunt. Orci varius natoque penatibus et magnis dis parturient montes, nascetur ridiculus mus. \n",
       "\n",
       "Peter Venkman: Do you remember one or two memories when you were a child growing up?\n",
       "\n",
       "John Doe: Praesent sed nisl sed metus pharetra maximus at ac erat. Sed nec commodo odio, nec molestie felis. Quisque et scelerisque elit. Sed non sodales neque, eget tempor erat. Aliquam quis risus eget tortor egestas vehicula. Morbi neque urna, condimentum id venenatis nec, volutpat sit amet lorem. Cras maximus neque ac dolor iaculis semper. Nulla facilisi. Integer facilisis et sem quis congue. Aliquam ac porta leo. Phasellus feugiat magna vitae eros scelerisque, sed dictum tellus lacinia. \n",
       "\n",
       "Peter Venkman: It was -\n",
       "\n",
       "John Doe: It was in Northern Greece, that was in Northern Greece, yes.\n",
       "\n",
       "</transcript>>"
      ]
     },
     "execution_count": 177,
     "metadata": {},
     "output_type": "execute_result"
    }
   ],
   "source": [
    "transcript.prettify"
   ]
  },
  {
   "cell_type": "code",
   "execution_count": 246,
   "metadata": {},
   "outputs": [],
   "source": [
    "#transcript_string = str(transcript.text)\n",
    "transcript_lines = transcript.text.split('\\n')\n",
    "transcript_np = np.array(transcript_lines)"
   ]
  },
  {
   "cell_type": "code",
   "execution_count": 251,
   "metadata": {
    "collapsed": true
   },
   "outputs": [
    {
     "data": {
      "text/plain": [
       "array(['Gathering Our Voice', '', 'Interviewee:  John Doe', '',\n",
       "       'Interviewer:  Peter Venkman (Egon Spengler also present) Date:  May 25, 2017',\n",
       "       '', 'Transcribed by Rev', '',\n",
       "       'Peter Venkman: Lorem ipsum dolor sit amet, consectetur adipiscing elit. Duis a sem ut tellus efficitur ultrices. Aliquam varius nisi tincidunt ex ullamcorper euismod. Pellentesque id egestas purus. In vitae justo erat. Aenean bibendum convallis tortor et aliquam. Cras ac eros vel nulla lobortis pulvinar. Mauris suscipit nulla feugiat elit varius, eu tempor eros lobortis. ',\n",
       "       '',\n",
       "       'John Doe: Mauris varius est at enim vehicula malesuada. Donec sed felis ac nibh rutrum pretium pharetra at eros. Maecenas a lacinia urna. Maecenas gravida rhoncus accumsan. Nulla et gravida velit, ut condimentum orci. Proin efficitur justo justo, non feugiat tortor interdum in. Sed sollicitudin interdum leo et eleifend. ',\n",
       "       '',\n",
       "       'Peter Venkman: Suspendisse potenti. Morbi bibendum vitae ex sit amet pellentesque. Ut ultrices nulla ac malesuada interdum. Proin convallis convallis magna sed semper. Nullam ut risus iaculis, consectetur dolor id, dapibus eros. In tempor velit in dictum euismod. Etiam felis enim, finibus ac efficitur ut, cursus fringilla nisi. Mauris vel lorem non ipsum consectetur placerat. Fusce elementum eu erat quis facilisis. Proin at blandit ligula. Aliquam ut eros faucibus, iaculis turpis scelerisque, iaculis neque. ',\n",
       "       '',\n",
       "       'John Doe: Cras mollis maximus turpis id mattis. Aenean lobortis bibendum mollis. Donec rutrum luctus augue eu volutpat. Proin ornare ante risus. In quis orci pretium, eleifend ipsum non, dignissim lorem. Proin venenatis mi magna, sit amet faucibus augue tristique at. Fusce nec viverra arcu.  ',\n",
       "       '',\n",
       "       \"Peter Venkman: That's awesome. Okay, I have more questions. What sort of\",\n",
       "       'skills and experience did your family bring with you when you came here?',\n",
       "       '', 'John Doe:  Can you repeat that question?', '',\n",
       "       'Peter Venkman: Yes, sure. What sort of skills and experience did your family',\n",
       "       'bring with you when you came?', '',\n",
       "       'John Doe: Mauris rutrum volutpat mi non porta. Nullam porttitor est sapien, ut efficitur magna venenatis a. Maecenas vitae tellus orci. Vivamus sodales erat sit amet ipsum fringilla condimentum. Phasellus rutrum, libero quis faucibus eleifend, leo elit posuere erat, vel pharetra sem mi efficitur nunc. Praesent vitae urna vel leo egestas vehicula eu quis tellus. Nullam eget tempus quam. Aliquam auctor laoreet purus. In ac turpis mauris. Pellentesque viverra cursus ligula, quis efficitur mauris finibus sit amet. Lorem ipsum dolor sit amet, consectetur adipiscing elit. Nam iaculis, enim nec dignissim facilisis, neque neque blandit odio, quis iaculis risus nulla sit amet metus. Maecenas iaculis at ex at sodales. Vestibulum ante ipsum primis in faucibus orci luctus et ultrices posuere cubilia curae; Phasellus lobortis faucibus sem, eu fringilla tellus rhoncus interdum. Cras maximus maximus tortor nec maximus. ',\n",
       "       '',\n",
       "       'Peter Venkman: Okay, what these people do to help you feel at home here? Either',\n",
       "       'one or two memories that is somehow from your childhood, young adulthood or more',\n",
       "       'recent recently? There is-', '',\n",
       "       'John Doe: So, a memory about what?', '',\n",
       "       'Peter Venkman: Is like, what do people do to help you feel at home?',\n",
       "       '',\n",
       "       'John Doe: Integer ut fermentum lectus. Quisque lacinia, ligula eget gravida blandit, massa lorem dapibus sem, et vulputate augue enim vestibulum sapien. Nulla a est mollis, tristique felis nec, mollis sem. Integer elementum consectetur ante sit amet imperdiet. Nullam et leo consequat, tincidunt justo et, interdum enim. Mauris quis elit hendrerit mauris consequat volutpat consectetur non massa. Sed auctor ligula ut dui facilisis, volutpat vulputate lacus dapibus. Nullam et felis posuere, egestas tellus ac, lacinia augue. Maecenas ac aliquet eros. Nullam nisi est, posuere non posuere tempus, bibendum vitae tellus. Praesent suscipit elementum arcu, quis egestas felis. Quisque non semper enim. Maecenas in risus massa. Pellentesque sollicitudin velit ac nulla laoreet tincidunt. Orci varius natoque penatibus et magnis dis parturient montes, nascetur ridiculus mus. ',\n",
       "       '',\n",
       "       'Peter Venkman: Do you remember one or two memories when you were a child growing up?',\n",
       "       '',\n",
       "       'John Doe: Praesent sed nisl sed metus pharetra maximus at ac erat. Sed nec commodo odio, nec molestie felis. Quisque et scelerisque elit. Sed non sodales neque, eget tempor erat. Aliquam quis risus eget tortor egestas vehicula. Morbi neque urna, condimentum id venenatis nec, volutpat sit amet lorem. Cras maximus neque ac dolor iaculis semper. Nulla facilisi. Integer facilisis et sem quis congue. Aliquam ac porta leo. Phasellus feugiat magna vitae eros scelerisque, sed dictum tellus lacinia. ',\n",
       "       '', 'Peter Venkman: It was -', '',\n",
       "       'John Doe: It was in Northern Greece, that was in Northern Greece, yes.',\n",
       "       '', ''], dtype='<U918')"
      ]
     },
     "execution_count": 251,
     "metadata": {},
     "output_type": "execute_result"
    }
   ],
   "source": [
    "transcript_np"
   ]
  },
  {
   "cell_type": "code",
   "execution_count": 253,
   "metadata": {
    "collapsed": true
   },
   "outputs": [
    {
     "name": "stdout",
     "output_type": "stream",
     "text": [
      "0 Gathering Our Voice\n",
      "1 \n",
      "2 Interviewee:  John Doe\n",
      "3 \n",
      "4 Interviewer:  Peter Venkman (Egon Spengler also present) Date:  May 25, 2017\n",
      "5 \n",
      "6 Transcribed by Rev\n",
      "7 \n",
      "8 Peter Venkman: Lorem ipsum dolor sit amet, consectetur adipiscing elit. Duis a sem ut tellus efficitur ultrices. Aliquam varius nisi tincidunt ex ullamcorper euismod. Pellentesque id egestas purus. In vitae justo erat. Aenean bibendum convallis tortor et aliquam. Cras ac eros vel nulla lobortis pulvinar. Mauris suscipit nulla feugiat elit varius, eu tempor eros lobortis. \n",
      "9 \n",
      "10 John Doe: Mauris varius est at enim vehicula malesuada. Donec sed felis ac nibh rutrum pretium pharetra at eros. Maecenas a lacinia urna. Maecenas gravida rhoncus accumsan. Nulla et gravida velit, ut condimentum orci. Proin efficitur justo justo, non feugiat tortor interdum in. Sed sollicitudin interdum leo et eleifend. \n",
      "11 \n",
      "12 Peter Venkman: Suspendisse potenti. Morbi bibendum vitae ex sit amet pellentesque. Ut ultrices nulla ac malesuada interdum. Proin convallis convallis magna sed semper. Nullam ut risus iaculis, consectetur dolor id, dapibus eros. In tempor velit in dictum euismod. Etiam felis enim, finibus ac efficitur ut, cursus fringilla nisi. Mauris vel lorem non ipsum consectetur placerat. Fusce elementum eu erat quis facilisis. Proin at blandit ligula. Aliquam ut eros faucibus, iaculis turpis scelerisque, iaculis neque. \n",
      "13 \n",
      "14 John Doe: Cras mollis maximus turpis id mattis. Aenean lobortis bibendum mollis. Donec rutrum luctus augue eu volutpat. Proin ornare ante risus. In quis orci pretium, eleifend ipsum non, dignissim lorem. Proin venenatis mi magna, sit amet faucibus augue tristique at. Fusce nec viverra arcu.  \n",
      "15 \n",
      "16 Peter Venkman: That's awesome. Okay, I have more questions. What sort of\n",
      "17 skills and experience did your family bring with you when you came here?\n",
      "18 \n",
      "19 John Doe:  Can you repeat that question?\n",
      "20 \n",
      "21 Peter Venkman: Yes, sure. What sort of skills and experience did your family\n",
      "22 bring with you when you came?\n",
      "23 \n",
      "24 John Doe: Mauris rutrum volutpat mi non porta. Nullam porttitor est sapien, ut efficitur magna venenatis a. Maecenas vitae tellus orci. Vivamus sodales erat sit amet ipsum fringilla condimentum. Phasellus rutrum, libero quis faucibus eleifend, leo elit posuere erat, vel pharetra sem mi efficitur nunc. Praesent vitae urna vel leo egestas vehicula eu quis tellus. Nullam eget tempus quam. Aliquam auctor laoreet purus. In ac turpis mauris. Pellentesque viverra cursus ligula, quis efficitur mauris finibus sit amet. Lorem ipsum dolor sit amet, consectetur adipiscing elit. Nam iaculis, enim nec dignissim facilisis, neque neque blandit odio, quis iaculis risus nulla sit amet metus. Maecenas iaculis at ex at sodales. Vestibulum ante ipsum primis in faucibus orci luctus et ultrices posuere cubilia curae; Phasellus lobortis faucibus sem, eu fringilla tellus rhoncus interdum. Cras maximus maximus tortor nec maximus. \n",
      "25 \n",
      "26 Peter Venkman: Okay, what these people do to help you feel at home here? Either\n",
      "27 one or two memories that is somehow from your childhood, young adulthood or more\n",
      "28 recent recently? There is-\n",
      "29 \n",
      "30 John Doe: So, a memory about what?\n",
      "31 \n",
      "32 Peter Venkman: Is like, what do people do to help you feel at home?\n",
      "33 \n",
      "34 John Doe: Integer ut fermentum lectus. Quisque lacinia, ligula eget gravida blandit, massa lorem dapibus sem, et vulputate augue enim vestibulum sapien. Nulla a est mollis, tristique felis nec, mollis sem. Integer elementum consectetur ante sit amet imperdiet. Nullam et leo consequat, tincidunt justo et, interdum enim. Mauris quis elit hendrerit mauris consequat volutpat consectetur non massa. Sed auctor ligula ut dui facilisis, volutpat vulputate lacus dapibus. Nullam et felis posuere, egestas tellus ac, lacinia augue. Maecenas ac aliquet eros. Nullam nisi est, posuere non posuere tempus, bibendum vitae tellus. Praesent suscipit elementum arcu, quis egestas felis. Quisque non semper enim. Maecenas in risus massa. Pellentesque sollicitudin velit ac nulla laoreet tincidunt. Orci varius natoque penatibus et magnis dis parturient montes, nascetur ridiculus mus. \n",
      "35 \n",
      "36 Peter Venkman: Do you remember one or two memories when you were a child growing up?\n",
      "37 \n",
      "38 John Doe: Praesent sed nisl sed metus pharetra maximus at ac erat. Sed nec commodo odio, nec molestie felis. Quisque et scelerisque elit. Sed non sodales neque, eget tempor erat. Aliquam quis risus eget tortor egestas vehicula. Morbi neque urna, condimentum id venenatis nec, volutpat sit amet lorem. Cras maximus neque ac dolor iaculis semper. Nulla facilisi. Integer facilisis et sem quis congue. Aliquam ac porta leo. Phasellus feugiat magna vitae eros scelerisque, sed dictum tellus lacinia. \n",
      "39 \n",
      "40 Peter Venkman: It was -\n",
      "41 \n",
      "42 John Doe: It was in Northern Greece, that was in Northern Greece, yes.\n",
      "43 \n",
      "44 \n"
     ]
    }
   ],
   "source": [
    "for i in range(len(transcript_np)):\n",
    "    print(i, transcript_np[i])"
   ]
  },
  {
   "cell_type": "code",
   "execution_count": 257,
   "metadata": {},
   "outputs": [
    {
     "data": {
      "text/plain": [
       "'<h1>Gathering Our Voice</h1>'"
      ]
     },
     "execution_count": 257,
     "metadata": {},
     "output_type": "execute_result"
    }
   ],
   "source": [
    "title = re.sub(r'(.*)$', r'<h1>\\1</h1>', transcript_np[0])\n",
    "title"
   ]
  },
  {
   "cell_type": "code",
   "execution_count": 249,
   "metadata": {},
   "outputs": [
    {
     "name": "stdout",
     "output_type": "stream",
     "text": [
      "<h1>Gathering Our Voice</h1>\n"
     ]
    }
   ],
   "source": [
    "print(f\"<h1>{transcript_np[0]}</h1>\")"
   ]
  },
  {
   "cell_type": "code",
   "execution_count": 181,
   "metadata": {
    "collapsed": true
   },
   "outputs": [
    {
     "name": "stdout",
     "output_type": "stream",
     "text": [
      "<p></p>\n",
      "<strong>Peter Venkman</strong>: Lorem ipsum dolor sit amet, consectetur adipiscing elit. Duis a sem ut tellus efficitur ultrices. Aliquam varius nisi tincidunt ex ullamcorper euismod. Pellentesque id egestas purus. In vitae justo erat. Aenean bibendum convallis tortor et aliquam. Cras ac eros vel nulla lobortis pulvinar. Mauris suscipit nulla feugiat elit varius, eu tempor eros lobortis. \n",
      "<p></p>\n",
      "<strong>John Doe</strong>: Mauris varius est at enim vehicula malesuada. Donec sed felis ac nibh rutrum pretium pharetra at eros. Maecenas a lacinia urna. Maecenas gravida rhoncus accumsan. Nulla et gravida velit, ut condimentum orci. Proin efficitur justo justo, non feugiat tortor interdum in. Sed sollicitudin interdum leo et eleifend. \n",
      "<p></p>\n",
      "<strong>Peter Venkman</strong>: Suspendisse potenti. Morbi bibendum vitae ex sit amet pellentesque. Ut ultrices nulla ac malesuada interdum. Proin convallis convallis magna sed semper. Nullam ut risus iaculis, consectetur dolor id, dapibus eros. In tempor velit in dictum euismod. Etiam felis enim, finibus ac efficitur ut, cursus fringilla nisi. Mauris vel lorem non ipsum consectetur placerat. Fusce elementum eu erat quis facilisis. Proin at blandit ligula. Aliquam ut eros faucibus, iaculis turpis scelerisque, iaculis neque. \n",
      "<p></p>\n",
      "<strong>John Doe</strong>: Cras mollis maximus turpis id mattis. Aenean lobortis bibendum mollis. Donec rutrum luctus augue eu volutpat. Proin ornare ante risus. In quis orci pretium, eleifend ipsum non, dignissim lorem. Proin venenatis mi magna, sit amet faucibus augue tristique at. Fusce nec viverra arcu.  \n",
      "<p></p>\n",
      "<strong>Peter Venkman</strong>: That's awesome. Okay, I have more questions. What sort of\n",
      "skills and experience did your family bring with you when you came here?\n",
      "<p></p>\n",
      "<strong>John Doe</strong>:  Can you repeat that question?\n",
      "<p></p>\n",
      "<strong>Peter Venkman</strong>: Yes, sure. What sort of skills and experience did your family\n",
      "bring with you when you came?\n",
      "<p></p>\n",
      "<strong>John Doe</strong>: Mauris rutrum volutpat mi non porta. Nullam porttitor est sapien, ut efficitur magna venenatis a. Maecenas vitae tellus orci. Vivamus sodales erat sit amet ipsum fringilla condimentum. Phasellus rutrum, libero quis faucibus eleifend, leo elit posuere erat, vel pharetra sem mi efficitur nunc. Praesent vitae urna vel leo egestas vehicula eu quis tellus. Nullam eget tempus quam. Aliquam auctor laoreet purus. In ac turpis mauris. Pellentesque viverra cursus ligula, quis efficitur mauris finibus sit amet. Lorem ipsum dolor sit amet, consectetur adipiscing elit. Nam iaculis, enim nec dignissim facilisis, neque neque blandit odio, quis iaculis risus nulla sit amet metus. Maecenas iaculis at ex at sodales. Vestibulum ante ipsum primis in faucibus orci luctus et ultrices posuere cubilia curae; Phasellus lobortis faucibus sem, eu fringilla tellus rhoncus interdum. Cras maximus maximus tor\n",
      "<p></p>\n",
      "<strong>Peter Venkman</strong>: Okay, what these people do to help you feel at home here? Either\n",
      "one or two memories that is somehow from your childhood, young adulthood or more\n",
      "recent recently? There is-\n",
      "<p></p>\n",
      "<strong>John Doe</strong>: So, a memory about what?\n",
      "<p></p>\n",
      "<strong>Peter Venkman</strong>: Is like, what do people do to help you feel at home?\n",
      "<p></p>\n",
      "<strong>John Doe</strong>: Integer ut fermentum lectus. Quisque lacinia, ligula eget gravida blandit, massa lorem dapibus sem, et vulputate augue enim vestibulum sapien. Nulla a est mollis, tristique felis nec, mollis sem. Integer elementum consectetur ante sit amet imperdiet. Nullam et leo consequat, tincidunt justo et, interdum enim. Mauris quis elit hendrerit mauris consequat volutpat consectetur non massa. Sed auctor ligula ut dui facilisis, volutpat vulputate lacus dapibus. Nullam et felis posuere, egestas tellus ac, lacinia augue. Maecenas ac aliquet eros. Nullam nisi est, posuere non posuere tempus, bibendum vitae tellus. Praesent suscipit elementum arcu, quis egestas felis. Quisque non semper enim. Maecenas in risus massa. Pellentesque sollicitudin velit ac nulla laoreet tincidunt. Orci varius natoque penatibus et magnis dis parturient montes, nascetur ridiculus mus. \n",
      "<p></p>\n",
      "<strong>Peter Venkman</strong>: Do you remember one or two memories when you were a child growing up?\n",
      "<p></p>\n",
      "<strong>John Doe</strong>: Praesent sed nisl sed metus pharetra maximus at ac erat. Sed nec commodo odio, nec molestie felis. Quisque et scelerisque elit. Sed non sodales neque, eget tempor erat. Aliquam quis risus eget tortor egestas vehicula. Morbi neque urna, condimentum id venenatis nec, volutpat sit amet lorem. Cras maximus neque ac dolor iaculis semper. Nulla facilisi. Integer facilisis et sem quis congue. Aliquam ac porta leo. Phasellus feugiat magna vitae eros scelerisque, sed dictum tellus lacinia. \n",
      "<p></p>\n",
      "<strong>Peter Venkman</strong>: It was -\n",
      "<p></p>\n",
      "<strong>John Doe</strong>: It was in Northern Greece, that was in Northern Greece, yes.\n",
      "<p></p>\n",
      "<p></p>\n"
     ]
    }
   ],
   "source": [
    "cnt = 0\n",
    "body = transcript_np[7:]\n",
    "\n",
    "for i in range(len(body)):\n",
    "    if not body[i].strip():\n",
    "        body[i] = '<p></p>'\n",
    "        print(body[i])\n",
    "    else:\n",
    "        if re.match('^[A-Z]{2}:', body[i]):\n",
    "            body[i] = re.sub(r'^([A-Z ]{2}):(.*$)', r'<strong>\\1</strong>:\\2', body[i])\n",
    "            print(body[i])\n",
    "        elif re.match('^\\w+ \\w+:', body[i]):\n",
    "            body[i] = re.sub(r'(^\\w+ \\w+):(.*$)', r'<strong>\\1</strong>:\\2', body[i])\n",
    "            print(body[i])\n",
    "        else:\n",
    "            print(body[i])\n",
    "    "
   ]
  },
  {
   "cell_type": "code",
   "execution_count": 182,
   "metadata": {
    "collapsed": true
   },
   "outputs": [
    {
     "name": "stdout",
     "output_type": "stream",
     "text": [
      "<p></p>\n",
      "<strong>Peter Venkman</strong>: Lorem ipsum dolor sit amet, consectetur adipiscing elit. Duis a sem ut tellus efficitur ultrices. Aliquam varius nisi tincidunt ex ullamcorper euismod. Pellentesque id egestas purus. In vitae justo erat. Aenean bibendum convallis tortor et aliquam. Cras ac eros vel nulla lobortis pulvinar. Mauris suscipit nulla feugiat elit varius, eu tempor eros lobortis. \n",
      "<p></p>\n",
      "<strong>John Doe</strong>: Mauris varius est at enim vehicula malesuada. Donec sed felis ac nibh rutrum pretium pharetra at eros. Maecenas a lacinia urna. Maecenas gravida rhoncus accumsan. Nulla et gravida velit, ut condimentum orci. Proin efficitur justo justo, non feugiat tortor interdum in. Sed sollicitudin interdum leo et eleifend. \n",
      "<p></p>\n",
      "<strong>Peter Venkman</strong>: Suspendisse potenti. Morbi bibendum vitae ex sit amet pellentesque. Ut ultrices nulla ac malesuada interdum. Proin convallis convallis magna sed semper. Nullam ut risus iaculis, consectetur dolor id, dapibus eros. In tempor velit in dictum euismod. Etiam felis enim, finibus ac efficitur ut, cursus fringilla nisi. Mauris vel lorem non ipsum consectetur placerat. Fusce elementum eu erat quis facilisis. Proin at blandit ligula. Aliquam ut eros faucibus, iaculis turpis scelerisque, iaculis neque. \n",
      "<p></p>\n",
      "<strong>John Doe</strong>: Cras mollis maximus turpis id mattis. Aenean lobortis bibendum mollis. Donec rutrum luctus augue eu volutpat. Proin ornare ante risus. In quis orci pretium, eleifend ipsum non, dignissim lorem. Proin venenatis mi magna, sit amet faucibus augue tristique at. Fusce nec viverra arcu.  \n",
      "<p></p>\n",
      "<strong>Peter Venkman</strong>: That's awesome. Okay, I have more questions. What sort of\n",
      "skills and experience did your family bring with you when you came here?\n",
      "<p></p>\n",
      "<strong>John Doe</strong>:  Can you repeat that question?\n",
      "<p></p>\n",
      "<strong>Peter Venkman</strong>: Yes, sure. What sort of skills and experience did your family\n",
      "bring with you when you came?\n",
      "<p></p>\n",
      "<strong>John Doe</strong>: Mauris rutrum volutpat mi non porta. Nullam porttitor est sapien, ut efficitur magna venenatis a. Maecenas vitae tellus orci. Vivamus sodales erat sit amet ipsum fringilla condimentum. Phasellus rutrum, libero quis faucibus eleifend, leo elit posuere erat, vel pharetra sem mi efficitur nunc. Praesent vitae urna vel leo egestas vehicula eu quis tellus. Nullam eget tempus quam. Aliquam auctor laoreet purus. In ac turpis mauris. Pellentesque viverra cursus ligula, quis efficitur mauris finibus sit amet. Lorem ipsum dolor sit amet, consectetur adipiscing elit. Nam iaculis, enim nec dignissim facilisis, neque neque blandit odio, quis iaculis risus nulla sit amet metus. Maecenas iaculis at ex at sodales. Vestibulum ante ipsum primis in faucibus orci luctus et ultrices posuere cubilia curae; Phasellus lobortis faucibus sem, eu fringilla tellus rhoncus interdum. Cras maximus maximus tor\n",
      "<p></p>\n",
      "<strong>Peter Venkman</strong>: Okay, what these people do to help you feel at home here? Either\n",
      "one or two memories that is somehow from your childhood, young adulthood or more\n",
      "recent recently? There is-\n",
      "<p></p>\n",
      "<strong>John Doe</strong>: So, a memory about what?\n",
      "<p></p>\n",
      "<strong>Peter Venkman</strong>: Is like, what do people do to help you feel at home?\n",
      "<p></p>\n",
      "<strong>John Doe</strong>: Integer ut fermentum lectus. Quisque lacinia, ligula eget gravida blandit, massa lorem dapibus sem, et vulputate augue enim vestibulum sapien. Nulla a est mollis, tristique felis nec, mollis sem. Integer elementum consectetur ante sit amet imperdiet. Nullam et leo consequat, tincidunt justo et, interdum enim. Mauris quis elit hendrerit mauris consequat volutpat consectetur non massa. Sed auctor ligula ut dui facilisis, volutpat vulputate lacus dapibus. Nullam et felis posuere, egestas tellus ac, lacinia augue. Maecenas ac aliquet eros. Nullam nisi est, posuere non posuere tempus, bibendum vitae tellus. Praesent suscipit elementum arcu, quis egestas felis. Quisque non semper enim. Maecenas in risus massa. Pellentesque sollicitudin velit ac nulla laoreet tincidunt. Orci varius natoque penatibus et magnis dis parturient montes, nascetur ridiculus mus. \n",
      "<p></p>\n",
      "<strong>Peter Venkman</strong>: Do you remember one or two memories when you were a child growing up?\n",
      "<p></p>\n",
      "<strong>John Doe</strong>: Praesent sed nisl sed metus pharetra maximus at ac erat. Sed nec commodo odio, nec molestie felis. Quisque et scelerisque elit. Sed non sodales neque, eget tempor erat. Aliquam quis risus eget tortor egestas vehicula. Morbi neque urna, condimentum id venenatis nec, volutpat sit amet lorem. Cras maximus neque ac dolor iaculis semper. Nulla facilisi. Integer facilisis et sem quis congue. Aliquam ac porta leo. Phasellus feugiat magna vitae eros scelerisque, sed dictum tellus lacinia. \n",
      "<p></p>\n",
      "<strong>Peter Venkman</strong>: It was -\n",
      "<p></p>\n",
      "<strong>John Doe</strong>: It was in Northern Greece, that was in Northern Greece, yes.\n",
      "<p></p>\n",
      "<p></p>\n"
     ]
    }
   ],
   "source": [
    "for line in transcript_np[7:]:\n",
    "    print(line)"
   ]
  },
  {
   "cell_type": "markdown",
   "metadata": {},
   "source": [
    "# Convert to HTML"
   ]
  },
  {
   "cell_type": "code",
   "execution_count": 183,
   "metadata": {
    "collapsed": true
   },
   "outputs": [
    {
     "data": {
      "text/plain": [
       "\"<h1>Gathering Our Voice</h1>\\n              <p></p>\\n              <h3>Interviewee:  John Doe</h3>\\n              <p></p>\\n              <h4>Interviewer:  Peter Venkman (Egon Spengler also present) Date:  May 25, 2017</h4>\\n              <p></p>\\n              <h4>Transcribed by Rev</h4>\\n              <p></p>\\n              \\n                  \\n                      <p></p>\\n                  \\n              \\n                  \\n                      <strong>Peter Venkman</strong>: Lorem ipsum dolor sit amet, consectetur adipiscing elit. Duis a sem ut tellus efficitur ultrices. Aliquam varius nisi tincidunt ex ullamcorper euismod. Pellentesque id egestas purus. In vitae justo erat. Aenean bibendum convallis tortor et aliquam. Cras ac eros vel nulla lobortis pulvinar. Mauris suscipit nulla feugiat elit varius, eu tempor eros lobortis. \\n                  \\n              \\n                  \\n                      <p></p>\\n                  \\n              \\n                  \\n                      <strong>John Doe</strong>: Mauris varius est at enim vehicula malesuada. Donec sed felis ac nibh rutrum pretium pharetra at eros. Maecenas a lacinia urna. Maecenas gravida rhoncus accumsan. Nulla et gravida velit, ut condimentum orci. Proin efficitur justo justo, non feugiat tortor interdum in. Sed sollicitudin interdum leo et eleifend. \\n                  \\n              \\n                  \\n                      <p></p>\\n                  \\n              \\n                  \\n                      <strong>Peter Venkman</strong>: Suspendisse potenti. Morbi bibendum vitae ex sit amet pellentesque. Ut ultrices nulla ac malesuada interdum. Proin convallis convallis magna sed semper. Nullam ut risus iaculis, consectetur dolor id, dapibus eros. In tempor velit in dictum euismod. Etiam felis enim, finibus ac efficitur ut, cursus fringilla nisi. Mauris vel lorem non ipsum consectetur placerat. Fusce elementum eu erat quis facilisis. Proin at blandit ligula. Aliquam ut eros faucibus, iaculis turpis scelerisque, iaculis neque. \\n                  \\n              \\n                  \\n                      <p></p>\\n                  \\n              \\n                  \\n                      <strong>John Doe</strong>: Cras mollis maximus turpis id mattis. Aenean lobortis bibendum mollis. Donec rutrum luctus augue eu volutpat. Proin ornare ante risus. In quis orci pretium, eleifend ipsum non, dignissim lorem. Proin venenatis mi magna, sit amet faucibus augue tristique at. Fusce nec viverra arcu.  \\n                  \\n              \\n                  \\n                      <p></p>\\n                  \\n              \\n                  \\n                      <strong>Peter Venkman</strong>: That's awesome. Okay, I have more questions. What sort of\\n                  \\n              \\n                  \\n                      skills and experience did your family bring with you when you came here?\\n                  \\n              \\n                  \\n                      <p></p>\\n                  \\n              \\n                  \\n                      <strong>John Doe</strong>:  Can you repeat that question?\\n                  \\n              \\n                  \\n                      <p></p>\\n                  \\n              \\n                  \\n                      <strong>Peter Venkman</strong>: Yes, sure. What sort of skills and experience did your family\\n                  \\n              \\n                  \\n                      bring with you when you came?\\n                  \\n              \\n                  \\n                      <p></p>\\n                  \\n              \\n                  \\n                      <strong>John Doe</strong>: Mauris rutrum volutpat mi non porta. Nullam porttitor est sapien, ut efficitur magna venenatis a. Maecenas vitae tellus orci. Vivamus sodales erat sit amet ipsum fringilla condimentum. Phasellus rutrum, libero quis faucibus eleifend, leo elit posuere erat, vel pharetra sem mi efficitur nunc. Praesent vitae urna vel leo egestas vehicula eu quis tellus. Nullam eget tempus quam. Aliquam auctor laoreet purus. In ac turpis mauris. Pellentesque viverra cursus ligula, quis efficitur mauris finibus sit amet. Lorem ipsum dolor sit amet, consectetur adipiscing elit. Nam iaculis, enim nec dignissim facilisis, neque neque blandit odio, quis iaculis risus nulla sit amet metus. Maecenas iaculis at ex at sodales. Vestibulum ante ipsum primis in faucibus orci luctus et ultrices posuere cubilia curae; Phasellus lobortis faucibus sem, eu fringilla tellus rhoncus interdum. Cras maximus maximus tor\\n                  \\n              \\n                  \\n                      <p></p>\\n                  \\n              \\n                  \\n                      <strong>Peter Venkman</strong>: Okay, what these people do to help you feel at home here? Either\\n                  \\n              \\n                  \\n                      one or two memories that is somehow from your childhood, young adulthood or more\\n                  \\n              \\n                  \\n                      recent recently? There is-\\n                  \\n              \\n                  \\n                      <p></p>\\n                  \\n              \\n                  \\n                      <strong>John Doe</strong>: So, a memory about what?\\n                  \\n              \\n                  \\n                      <p></p>\\n                  \\n              \\n                  \\n                      <strong>Peter Venkman</strong>: Is like, what do people do to help you feel at home?\\n                  \\n              \\n                  \\n                      <p></p>\\n                  \\n              \\n                  \\n                      <strong>John Doe</strong>: Integer ut fermentum lectus. Quisque lacinia, ligula eget gravida blandit, massa lorem dapibus sem, et vulputate augue enim vestibulum sapien. Nulla a est mollis, tristique felis nec, mollis sem. Integer elementum consectetur ante sit amet imperdiet. Nullam et leo consequat, tincidunt justo et, interdum enim. Mauris quis elit hendrerit mauris consequat volutpat consectetur non massa. Sed auctor ligula ut dui facilisis, volutpat vulputate lacus dapibus. Nullam et felis posuere, egestas tellus ac, lacinia augue. Maecenas ac aliquet eros. Nullam nisi est, posuere non posuere tempus, bibendum vitae tellus. Praesent suscipit elementum arcu, quis egestas felis. Quisque non semper enim. Maecenas in risus massa. Pellentesque sollicitudin velit ac nulla laoreet tincidunt. Orci varius natoque penatibus et magnis dis parturient montes, nascetur ridiculus mus. \\n                  \\n              \\n                  \\n                      <p></p>\\n                  \\n              \\n                  \\n                      <strong>Peter Venkman</strong>: Do you remember one or two memories when you were a child growing up?\\n                  \\n              \\n                  \\n                      <p></p>\\n                  \\n              \\n                  \\n                      <strong>John Doe</strong>: Praesent sed nisl sed metus pharetra maximus at ac erat. Sed nec commodo odio, nec molestie felis. Quisque et scelerisque elit. Sed non sodales neque, eget tempor erat. Aliquam quis risus eget tortor egestas vehicula. Morbi neque urna, condimentum id venenatis nec, volutpat sit amet lorem. Cras maximus neque ac dolor iaculis semper. Nulla facilisi. Integer facilisis et sem quis congue. Aliquam ac porta leo. Phasellus feugiat magna vitae eros scelerisque, sed dictum tellus lacinia. \\n                  \\n              \\n                  \\n                      <p></p>\\n                  \\n              \\n                  \\n                      <strong>Peter Venkman</strong>: It was -\\n                  \\n              \\n                  \\n                      <p></p>\\n                  \\n              \\n                  \\n                      <strong>John Doe</strong>: It was in Northern Greece, that was in Northern Greece, yes.\\n                  \\n              \\n                  \\n                      <p></p>\\n                  \\n              \\n                  \\n                      <p></p>\\n                  \\n              \""
      ]
     },
     "execution_count": 183,
     "metadata": {},
     "output_type": "execute_result"
    }
   ],
   "source": [
    "\n",
    "template = '''<h1>{{title}}</h1>\n",
    "              <p></p>\n",
    "              <h3>{{interview}}</h3>\n",
    "              <p></p>\n",
    "              <h4>{{date}}</h4>\n",
    "              <p></p>\n",
    "              <h4>{{transcribed}}</h4>\n",
    "              <p></p>\n",
    "              {% for line in body %}\n",
    "                  {% if line|length %}\n",
    "                      {{line}}\n",
    "                  {% else %}\n",
    "                      <p></p>\n",
    "                  {% endif %}\n",
    "              {% endfor %}'''\n",
    "templater = Template(template)\n",
    "templater.render(title=transcript_np[0],\n",
    "                 interview=transcript_np[2],\n",
    "                 date=transcript_np[4],\n",
    "                 transcribed=transcript_np[6],\n",
    "                 body=body)"
   ]
  },
  {
   "cell_type": "code",
   "execution_count": 258,
   "metadata": {},
   "outputs": [],
   "source": [
    "with open('results.html', 'w') as f:\n",
    "    f.write(templater.render(title=transcript_np[0],\n",
    "                 interview=transcript_np[2],\n",
    "                 date=transcript_np[4],\n",
    "                 transcribed=transcript_np[6],\n",
    "                 body=body))"
   ]
  },
  {
   "cell_type": "markdown",
   "metadata": {},
   "source": [
    "# Convert to PDF"
   ]
  },
  {
   "cell_type": "code",
   "execution_count": 212,
   "metadata": {
    "collapsed": true
   },
   "outputs": [
    {
     "name": "stdout",
     "output_type": "stream",
     "text": [
      ".LP\n",
      "\\fBPeter Venkman\\fR: Lorem ipsum dolor sit amet, consectetur adipiscing elit. Duis a sem ut tellus efficitur ultrices. Aliquam varius nisi tincidunt ex ullamcorper euismod. Pellentesque id egestas purus. In vitae justo erat. Aenean bibendum convallis tortor et aliquam. Cras ac eros vel nulla lobortis pulvinar. Mauris suscipit nulla feugiat elit varius, eu tempor eros lobortis. \n",
      ".LP\n",
      "\\fBJohn Doe\\fR: Mauris varius est at enim vehicula malesuada. Donec sed felis ac nibh rutrum pretium pharetra at eros. Maecenas a lacinia urna. Maecenas gravida rhoncus accumsan. Nulla et gravida velit, ut condimentum orci. Proin efficitur justo justo, non feugiat tortor interdum in. Sed sollicitudin interdum leo et eleifend. \n",
      ".LP\n",
      "\\fBPeter Venkman\\fR: Suspendisse potenti. Morbi bibendum vitae ex sit amet pellentesque. Ut ultrices nulla ac malesuada interdum. Proin convallis convallis magna sed semper. Nullam ut risus iaculis, consectetur dolor id, dapibus eros. In tempor velit in dictum euismod. Etiam felis enim, finibus ac efficitur ut, cursus fringilla nisi. Mauris vel lorem non ipsum consectetur placerat. Fusce elementum eu erat quis facilisis. Proin at blandit ligula. Aliquam ut eros faucibus, iaculis turpis scelerisque, iaculis neque. \n",
      ".LP\n",
      "\\fBJohn Doe\\fR: Cras mollis maximus turpis id mattis. Aenean lobortis bibendum mollis. Donec rutrum luctus augue eu volutpat. Proin ornare ante risus. In quis orci pretium, eleifend ipsum non, dignissim lorem. Proin venenatis mi magna, sit amet faucibus augue tristique at. Fusce nec viverra arcu.  \n",
      ".LP\n",
      "\\fBPeter Venkman\\fR: That's awesome. Okay, I have more questions. What sort of\n",
      "skills and experience did your family bring with you when you came here?\n",
      ".LP\n",
      "\\fBJohn Doe\\fR:  Can you repeat that question?\n",
      ".LP\n",
      "\\fBPeter Venkman\\fR: Yes, sure. What sort of skills and experience did your family\n",
      "bring with you when you came?\n",
      ".LP\n",
      "\\fBJohn Doe\\fR: Mauris rutrum volutpat mi non porta. Nullam porttitor est sapien, ut efficitur magna venenatis a. Maecenas vitae tellus orci. Vivamus sodales erat sit amet ipsum fringilla condimentum. Phasellus rutrum, libero quis faucibus eleifend, leo elit posuere erat, vel pharetra sem mi efficitur nunc. Praesent vitae urna vel leo egestas vehicula eu quis tellus. Nullam eget tempus quam. Aliquam auctor laoreet purus. In ac turpis mauris. Pellentesque viverra cursus ligula, quis efficitur mauris finibus sit amet. Lorem ipsum dolor sit amet, consectetur adipiscing elit. Nam iaculis, enim nec dignissim facilisis, neque neque blandit odio, quis iaculis risus nulla sit amet metus. Maecenas iaculis at ex at sodales. Vestibulum ante ipsum primis in faucibus orci luctus et ultrices posuere cubilia curae; Phasellus lobortis faucibus sem, eu fringilla tellus rhoncus interdum. Cras maximus maximus tortor nec max\n",
      ".LP\n",
      "\\fBPeter Venkman\\fR: Okay, what these people do to help you feel at home here? Either\n",
      "one or two memories that is somehow from your childhood, young adulthood or more\n",
      "recent recently? There is-\n",
      ".LP\n",
      "\\fBJohn Doe\\fR: So, a memory about what?\n",
      ".LP\n",
      "\\fBPeter Venkman\\fR: Is like, what do people do to help you feel at home?\n",
      ".LP\n",
      "\\fBJohn Doe\\fR: Integer ut fermentum lectus. Quisque lacinia, ligula eget gravida blandit, massa lorem dapibus sem, et vulputate augue enim vestibulum sapien. Nulla a est mollis, tristique felis nec, mollis sem. Integer elementum consectetur ante sit amet imperdiet. Nullam et leo consequat, tincidunt justo et, interdum enim. Mauris quis elit hendrerit mauris consequat volutpat consectetur non massa. Sed auctor ligula ut dui facilisis, volutpat vulputate lacus dapibus. Nullam et felis posuere, egestas tellus ac, lacinia augue. Maecenas ac aliquet eros. Nullam nisi est, posuere non posuere tempus, bibendum vitae tellus. Praesent suscipit elementum arcu, quis egestas felis. Quisque non semper enim. Maecenas in risus massa. Pellentesque sollicitudin velit ac nulla laoreet tincidunt. Orci varius natoque penatibus et magnis dis parturient montes, nascetur ridiculus mus. \n",
      ".LP\n",
      "\\fBPeter Venkman\\fR: Do you remember one or two memories when you were a child growing up?\n",
      ".LP\n",
      "\\fBJohn Doe\\fR: Praesent sed nisl sed metus pharetra maximus at ac erat. Sed nec commodo odio, nec molestie felis. Quisque et scelerisque elit. Sed non sodales neque, eget tempor erat. Aliquam quis risus eget tortor egestas vehicula. Morbi neque urna, condimentum id venenatis nec, volutpat sit amet lorem. Cras maximus neque ac dolor iaculis semper. Nulla facilisi. Integer facilisis et sem quis congue. Aliquam ac porta leo. Phasellus feugiat magna vitae eros scelerisque, sed dictum tellus lacinia. \n",
      ".LP\n",
      "\\fBPeter Venkman\\fR: It was -\n",
      ".LP\n",
      "\\fBJohn Doe\\fR: It was in Northern Greece, that was in Northern Greece, yes.\n",
      ".LP\n",
      ".LP\n"
     ]
    }
   ],
   "source": [
    "transcript_np2 = np.array(transcript_lines)\n",
    "body2 = transcript_np2[7:]\n",
    "\n",
    "for i in range(len(body2)):\n",
    "    if not body2[i].strip():\n",
    "        body2[i] = '.LP'\n",
    "        print(body2[i])\n",
    "    else:\n",
    "        if re.match('^[A-Z]{2}:', body2[i]):\n",
    "            body2[i] = re.sub(r'^([A-Z ]{2}):(.*$)', r'\\\\fB\\1\\\\fR:\\2', body2[i])\n",
    "            print(body2[i])\n",
    "        elif re.match('^\\w+ \\w+:', body2[i]):\n",
    "            body2[i] = re.sub(r'(^\\w+ \\w+):(.*$)', r'\\\\fB\\1\\\\fR:\\2', body2[i])\n",
    "            print(body2[i])\n",
    "        else:\n",
    "            print(body2[i])"
   ]
  },
  {
   "cell_type": "code",
   "execution_count": 241,
   "metadata": {
    "collapsed": true
   },
   "outputs": [
    {
     "data": {
      "text/plain": [
       "\"\\n.TL\\nGathering Our Voice\\n.AU\\nInterviewee:  John Doe\\n.AU\\nInterviewer:  Peter Venkman (Egon Spengler also present) Date:  May 25, 2017\\n.AI\\nTranscribed by Rev\\n.ds LF \\\\fIGOV Interviews\\\\fP\\n.ds CF CR - \\\\*(DY \\n.ds RF Page %\\n.LP\\n\\\\fBPeter Venkman\\\\fR: Lorem ipsum dolor sit amet, consectetur adipiscing elit. Duis a sem ut tellus efficitur ultrices. Aliquam varius nisi tincidunt ex ullamcorper euismod. Pellentesque id egestas purus. In vitae justo erat. Aenean bibendum convallis tortor et aliquam. Cras ac eros vel nulla lobortis pulvinar. Mauris suscipit nulla feugiat elit varius, eu tempor eros lobortis. \\n.LP\\n\\\\fBJohn Doe\\\\fR: Mauris varius est at enim vehicula malesuada. Donec sed felis ac nibh rutrum pretium pharetra at eros. Maecenas a lacinia urna. Maecenas gravida rhoncus accumsan. Nulla et gravida velit, ut condimentum orci. Proin efficitur justo justo, non feugiat tortor interdum in. Sed sollicitudin interdum leo et eleifend. \\n.LP\\n\\\\fBPeter Venkman\\\\fR: Suspendisse potenti. Morbi bibendum vitae ex sit amet pellentesque. Ut ultrices nulla ac malesuada interdum. Proin convallis convallis magna sed semper. Nullam ut risus iaculis, consectetur dolor id, dapibus eros. In tempor velit in dictum euismod. Etiam felis enim, finibus ac efficitur ut, cursus fringilla nisi. Mauris vel lorem non ipsum consectetur placerat. Fusce elementum eu erat quis facilisis. Proin at blandit ligula. Aliquam ut eros faucibus, iaculis turpis scelerisque, iaculis neque. \\n.LP\\n\\\\fBJohn Doe\\\\fR: Cras mollis maximus turpis id mattis. Aenean lobortis bibendum mollis. Donec rutrum luctus augue eu volutpat. Proin ornare ante risus. In quis orci pretium, eleifend ipsum non, dignissim lorem. Proin venenatis mi magna, sit amet faucibus augue tristique at. Fusce nec viverra arcu.  \\n.LP\\n\\\\fBPeter Venkman\\\\fR: That's awesome. Okay, I have more questions. What sort of\\nskills and experience did your family bring with you when you came here?\\n.LP\\n\\\\fBJohn Doe\\\\fR:  Can you repeat that question?\\n.LP\\n\\\\fBPeter Venkman\\\\fR: Yes, sure. What sort of skills and experience did your family\\nbring with you when you came?\\n.LP\\n\\\\fBJohn Doe\\\\fR: Mauris rutrum volutpat mi non porta. Nullam porttitor est sapien, ut efficitur magna venenatis a. Maecenas vitae tellus orci. Vivamus sodales erat sit amet ipsum fringilla condimentum. Phasellus rutrum, libero quis faucibus eleifend, leo elit posuere erat, vel pharetra sem mi efficitur nunc. Praesent vitae urna vel leo egestas vehicula eu quis tellus. Nullam eget tempus quam. Aliquam auctor laoreet purus. In ac turpis mauris. Pellentesque viverra cursus ligula, quis efficitur mauris finibus sit amet. Lorem ipsum dolor sit amet, consectetur adipiscing elit. Nam iaculis, enim nec dignissim facilisis, neque neque blandit odio, quis iaculis risus nulla sit amet metus. Maecenas iaculis at ex at sodales. Vestibulum ante ipsum primis in faucibus orci luctus et ultrices posuere cubilia curae; Phasellus lobortis faucibus sem, eu fringilla tellus rhoncus interdum. Cras maximus maximus tortor nec max\\n.LP\\n\\\\fBPeter Venkman\\\\fR: Okay, what these people do to help you feel at home here? Either\\none or two memories that is somehow from your childhood, young adulthood or more\\nrecent recently? There is-\\n.LP\\n\\\\fBJohn Doe\\\\fR: So, a memory about what?\\n.LP\\n\\\\fBPeter Venkman\\\\fR: Is like, what do people do to help you feel at home?\\n.LP\\n\\\\fBJohn Doe\\\\fR: Integer ut fermentum lectus. Quisque lacinia, ligula eget gravida blandit, massa lorem dapibus sem, et vulputate augue enim vestibulum sapien. Nulla a est mollis, tristique felis nec, mollis sem. Integer elementum consectetur ante sit amet imperdiet. Nullam et leo consequat, tincidunt justo et, interdum enim. Mauris quis elit hendrerit mauris consequat volutpat consectetur non massa. Sed auctor ligula ut dui facilisis, volutpat vulputate lacus dapibus. Nullam et felis posuere, egestas tellus ac, lacinia augue. Maecenas ac aliquet eros. Nullam nisi est, posuere non posuere tempus, bibendum vitae tellus. Praesent suscipit elementum arcu, quis egestas felis. Quisque non semper enim. Maecenas in risus massa. Pellentesque sollicitudin velit ac nulla laoreet tincidunt. Orci varius natoque penatibus et magnis dis parturient montes, nascetur ridiculus mus. \\n.LP\\n\\\\fBPeter Venkman\\\\fR: Do you remember one or two memories when you were a child growing up?\\n.LP\\n\\\\fBJohn Doe\\\\fR: Praesent sed nisl sed metus pharetra maximus at ac erat. Sed nec commodo odio, nec molestie felis. Quisque et scelerisque elit. Sed non sodales neque, eget tempor erat. Aliquam quis risus eget tortor egestas vehicula. Morbi neque urna, condimentum id venenatis nec, volutpat sit amet lorem. Cras maximus neque ac dolor iaculis semper. Nulla facilisi. Integer facilisis et sem quis congue. Aliquam ac porta leo. Phasellus feugiat magna vitae eros scelerisque, sed dictum tellus lacinia. \\n.LP\\n\\\\fBPeter Venkman\\\\fR: It was -\\n.LP\\n\\\\fBJohn Doe\\\\fR: It was in Northern Greece, that was in Northern Greece, yes.\\n.LP\\n.LP\""
      ]
     },
     "execution_count": 241,
     "metadata": {},
     "output_type": "execute_result"
    }
   ],
   "source": [
    "Template.trim_blocks = True\n",
    "Template.lstrip_blocks = True\n",
    "\n",
    "\n",
    "templatePDF = '''\n",
    ".TL\n",
    "{{title}}\n",
    ".AU\n",
    "{{interview}}\n",
    ".AU\n",
    "{{date}}\n",
    ".AI\n",
    "{{transcribed}}\n",
    ".ds LF \\\\fIGOV Interviews\\\\fP\n",
    ".ds CF CR - \\*(DY \n",
    ".ds RF Page %\n",
    "{%- for line in body %}\n",
    "{%- if line|length %}\n",
    "{{line}}\n",
    "{%- else %}\n",
    ".LP\n",
    "{%- endif %}\n",
    "{%- endfor %}'''\n",
    "templater2 = Template(templatePDF)\n",
    "templater2.render(title=transcript_np2[0],\n",
    "                 interview=transcript_np2[2],\n",
    "                 date=transcript_np2[4],\n",
    "                 transcribed=transcript_np2[6],\n",
    "                 body=body2)"
   ]
  },
  {
   "cell_type": "code",
   "execution_count": 242,
   "metadata": {},
   "outputs": [],
   "source": [
    "with open('results.roff', 'w') as f:\n",
    "    f.write(templater2.render(title=transcript_np2[0],\n",
    "                 interview=transcript_np2[2],\n",
    "                 date=transcript_np2[4],\n",
    "                 transcribed=transcript_np2[6],\n",
    "                 body=body2))"
   ]
  },
  {
   "cell_type": "code",
   "execution_count": 243,
   "metadata": {},
   "outputs": [
    {
     "data": {
      "text/plain": [
       "0"
      ]
     },
     "execution_count": 243,
     "metadata": {},
     "output_type": "execute_result"
    }
   ],
   "source": [
    "myCmd = 'groff -ms -Tps ./results.roff | ps2pdf14 - results.pdf'\n",
    "os.system(myCmd)"
   ]
  },
  {
   "cell_type": "markdown",
   "metadata": {},
   "source": [
    "# Excel"
   ]
  },
  {
   "cell_type": "markdown",
   "metadata": {},
   "source": [
    "## Import Excel Writing Library and Create Workbook"
   ]
  },
  {
   "cell_type": "code",
   "execution_count": 430,
   "metadata": {},
   "outputs": [],
   "source": [
    "import openpyxl\n",
    "from openpyxl.styles import Alignment, colors, Color, Font, PatternFill\n",
    "from openpyxl import Workbook"
   ]
  },
  {
   "cell_type": "code",
   "execution_count": 442,
   "metadata": {},
   "outputs": [],
   "source": [
    "xlsx = \"interview_wb.xlsx\"\n",
    "wb = Workbook()\n",
    "ws = wb.active"
   ]
  },
  {
   "cell_type": "markdown",
   "metadata": {},
   "source": [
    "## Get Some Stats from the XML File"
   ]
  },
  {
   "cell_type": "code",
   "execution_count": 443,
   "metadata": {},
   "outputs": [],
   "source": [
    "stats = {}\n",
    "stats['versionXML']    = bs_data.find(\"version\").text\n",
    "stats['titleXML']      = bs_data.find(\"title\").text\n",
    "stats['duration']      = bs_data.find(\"duration\").text\n",
    "stats['collection_id'] = bs_data.find(\"collection_id\").text\n",
    "stats['repository']    = bs_data.find(\"repository\").text\n",
    "stats['file_format']   = bs_data.find(\"format\").text\n",
    "stats['file_name']     = bs_data.find(\"file_name\").text\n",
    "stats['keywords']      = bs_data.find(\"keywords\").text\n",
    "stats['subjects']      = bs_data.find(\"subjects\").text"
   ]
  },
  {
   "cell_type": "code",
   "execution_count": 444,
   "metadata": {},
   "outputs": [
    {
     "data": {
      "text/plain": [
       "{'versionXML': '5.4',\n",
       " 'titleXML': 'John Doe, Douglas County, 2017',\n",
       " 'duration': '46: 56',\n",
       " 'collection_id': '12',\n",
       " 'repository': 'historical society',\n",
       " 'file_format': 'MP3',\n",
       " 'file_name': 'buzzbomb_from_pasadena_20170525.mp3',\n",
       " 'keywords': 'Family;Native language;Russian language;World Relief',\n",
       " 'subjects': 'Rich Feynman as mentor'}"
      ]
     },
     "execution_count": 444,
     "metadata": {},
     "output_type": "execute_result"
    }
   ],
   "source": [
    "stats"
   ]
  },
  {
   "cell_type": "markdown",
   "metadata": {},
   "source": [
    "## Add Title to Spreadsheet"
   ]
  },
  {
   "cell_type": "code",
   "execution_count": 445,
   "metadata": {
    "scrolled": true
   },
   "outputs": [],
   "source": [
    "A1 = ws['A1']\n",
    "A1.value = \"XML Interview Breakdown\"\n",
    "ws.merge_cells('A1:B1')\n",
    "ws['A1'].alignment = Alignment(horizontal='center')"
   ]
  },
  {
   "cell_type": "markdown",
   "metadata": {},
   "source": [
    "## Style Title"
   ]
  },
  {
   "cell_type": "code",
   "execution_count": 446,
   "metadata": {},
   "outputs": [],
   "source": [
    "ft = Font(bold=True)              # Font color\n",
    "fill = PatternFill(\"solid\", fgColor=\"FDEDD9\")     # Fill color\n",
    "\n",
    "A1.font = ft\n",
    "A1.fill = fill"
   ]
  },
  {
   "cell_type": "markdown",
   "metadata": {},
   "source": [
    "## Add Data"
   ]
  },
  {
   "cell_type": "code",
   "execution_count": 447,
   "metadata": {},
   "outputs": [],
   "source": [
    "# Column headings\n",
    "A3 = ws[\"A3\"]\n",
    "A3.value  = \"Key\"\n",
    "A3.fill = PatternFill(\"solid\", fgColor=\"E4DCD2\")\n",
    "B3 = ws[\"B3\"] \n",
    "B3.value = \"Value\"\n",
    "B3.fill = PatternFill(\"solid\", fgColor=\"E4DCD2\")\n",
    "\n",
    "for row, (key, value) in enumerate(stats.items(), start=4):\n",
    "    ws [f\"A{row}\"] = key\n",
    "    ws [f\"B{row}\"] = value"
   ]
  },
  {
   "cell_type": "markdown",
   "metadata": {},
   "source": [
    "## Save Spreadsheet"
   ]
  },
  {
   "cell_type": "code",
   "execution_count": 448,
   "metadata": {},
   "outputs": [],
   "source": [
    "wb.save(xlsx)"
   ]
  },
  {
   "cell_type": "code",
   "execution_count": null,
   "metadata": {},
   "outputs": [],
   "source": []
  }
 ],
 "metadata": {
  "kernelspec": {
   "display_name": "Python 3",
   "language": "python",
   "name": "python3"
  },
  "language_info": {
   "codemirror_mode": {
    "name": "ipython",
    "version": 3
   },
   "file_extension": ".py",
   "mimetype": "text/x-python",
   "name": "python",
   "nbconvert_exporter": "python",
   "pygments_lexer": "ipython3",
   "version": "3.6.9"
  },
  "latex_envs": {
   "LaTeX_envs_menu_present": true,
   "autoclose": false,
   "autocomplete": true,
   "bibliofile": "biblio.bib",
   "cite_by": "apalike",
   "current_citInitial": 1,
   "eqLabelWithNumbers": true,
   "eqNumInitial": 1,
   "hotkeys": {
    "equation": "Ctrl-E",
    "itemize": "Ctrl-I"
   },
   "labels_anchors": false,
   "latex_user_defs": false,
   "report_style_numbering": false,
   "user_envs_cfg": false
  },
  "toc": {
   "base_numbering": 1,
   "nav_menu": {},
   "number_sections": true,
   "sideBar": true,
   "skip_h1_title": false,
   "title_cell": "Table of Contents",
   "title_sidebar": "Contents",
   "toc_cell": false,
   "toc_position": {},
   "toc_section_display": true,
   "toc_window_display": true
  }
 },
 "nbformat": 4,
 "nbformat_minor": 2
}
